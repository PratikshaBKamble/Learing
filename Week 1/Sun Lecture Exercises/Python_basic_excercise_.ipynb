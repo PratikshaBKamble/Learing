{
  "nbformat": 4,
  "nbformat_minor": 0,
  "metadata": {
    "colab": {
      "name": "Python_basic_excercise .ipynb",
      "version": "0.3.2",
      "provenance": []
    },
    "kernelspec": {
      "name": "python3",
      "display_name": "Python 3"
    }
  },
  "cells": [
    {
      "metadata": {
        "colab_type": "text",
        "id": "Y0MUYenOOqRo"
      },
      "cell_type": "markdown",
      "source": [
        "1.) Write a python Program to Add ,Multiply, Divide & Substract two numbers.\n",
        "\n",
        "\n"
      ]
    },
    {
      "metadata": {
        "colab_type": "code",
        "id": "17Vo69J7OqRp",
        "colab": {}
      },
      "cell_type": "code",
      "source": [
        ""
      ],
      "execution_count": 0,
      "outputs": []
    },
    {
      "metadata": {
        "colab_type": "text",
        "id": "w6Pw571KOqRt"
      },
      "cell_type": "markdown",
      "source": [
        "2.) Python Program for simple interest"
      ]
    },
    {
      "metadata": {
        "colab_type": "code",
        "id": "YydXsLjyOqRu",
        "colab": {}
      },
      "cell_type": "code",
      "source": [
        ""
      ],
      "execution_count": 0,
      "outputs": []
    },
    {
      "metadata": {
        "colab_type": "text",
        "id": "O4EsMnELOqRw"
      },
      "cell_type": "markdown",
      "source": [
        "3.) Python Program for compound interest\n",
        "\n"
      ]
    },
    {
      "metadata": {
        "colab_type": "code",
        "id": "XVVzij-pOqRw",
        "colab": {}
      },
      "cell_type": "code",
      "source": [
        ""
      ],
      "execution_count": 0,
      "outputs": []
    },
    {
      "metadata": {
        "colab_type": "text",
        "id": "IeNQNtwOOqRz"
      },
      "cell_type": "markdown",
      "source": [
        "4.) Python Program to check Armstrong Number\n",
        "\n"
      ]
    },
    {
      "metadata": {
        "colab_type": "code",
        "id": "EM-Cket6OqR0",
        "colab": {}
      },
      "cell_type": "code",
      "source": [
        ""
      ],
      "execution_count": 0,
      "outputs": []
    },
    {
      "metadata": {
        "colab_type": "text",
        "id": "ARiwSkdjOqR2"
      },
      "cell_type": "markdown",
      "source": [
        "5.) Given an integer, x perform the following conditional actions:\n",
        "\n",
        "•\tIf  x is odd, print Weird\n",
        "\n",
        "•\tIf  x is even and in the inclusive range of  to , print Not Weird\n",
        "\n",
        "•\tIf  x is even and in the inclusive range of  to , print Weird\n",
        " \n",
        "•\tIf  x is even and greater than , print Not Weird\n"
      ]
    },
    {
      "metadata": {
        "colab_type": "code",
        "id": "a_ueLqDCOqR3",
        "colab": {}
      },
      "cell_type": "code",
      "source": [
        ""
      ],
      "execution_count": 0,
      "outputs": []
    },
    {
      "metadata": {
        "colab_type": "text",
        "id": "jpZ2AjRWOqR5"
      },
      "cell_type": "markdown",
      "source": [
        "6.) Python Program for Program to find area of a circle"
      ]
    },
    {
      "metadata": {
        "colab_type": "code",
        "id": "jQ2NHkEjOqR6",
        "colab": {}
      },
      "cell_type": "code",
      "source": [
        ""
      ],
      "execution_count": 0,
      "outputs": []
    },
    {
      "metadata": {
        "colab_type": "text",
        "id": "SlPkq8yyOqR8"
      },
      "cell_type": "markdown",
      "source": [
        "7.) Python program to check whether a number is Prime or not"
      ]
    },
    {
      "metadata": {
        "colab_type": "code",
        "id": "NZtbNZ9YOqR9",
        "colab": {}
      },
      "cell_type": "code",
      "source": [
        ""
      ],
      "execution_count": 0,
      "outputs": []
    },
    {
      "metadata": {
        "colab_type": "text",
        "id": "Bx2b8OKzOqR_"
      },
      "cell_type": "markdown",
      "source": [
        "8.) Python Program for Fibonacci numbers"
      ]
    },
    {
      "metadata": {
        "colab_type": "code",
        "id": "2P3DwkLBOqSA",
        "colab": {}
      },
      "cell_type": "code",
      "source": [
        ""
      ],
      "execution_count": 0,
      "outputs": []
    },
    {
      "metadata": {
        "colab_type": "text",
        "id": "QF0Ozw7ZOqSD"
      },
      "cell_type": "markdown",
      "source": [
        "9.) Python Program for How to check if a given number is Fibonacci number"
      ]
    },
    {
      "metadata": {
        "colab_type": "code",
        "id": "VnlLmgavOqSD",
        "colab": {}
      },
      "cell_type": "code",
      "source": [
        ""
      ],
      "execution_count": 0,
      "outputs": []
    },
    {
      "metadata": {
        "colab_type": "text",
        "id": "22O0p0jaOqSG"
      },
      "cell_type": "markdown",
      "source": [
        "10.) Program to print ASCII Value of a character\n",
        "\n"
      ]
    },
    {
      "metadata": {
        "colab_type": "code",
        "id": "U6c_M74wOqSG",
        "colab": {}
      },
      "cell_type": "code",
      "source": [
        ""
      ],
      "execution_count": 0,
      "outputs": []
    },
    {
      "metadata": {
        "colab_type": "text",
        "id": "KrY8BHvQOqSI"
      },
      "cell_type": "markdown",
      "source": [
        "11.) Python Program for Sum of first n natural numbers"
      ]
    },
    {
      "metadata": {
        "colab_type": "code",
        "id": "T1xLe_RUOqSK",
        "colab": {}
      },
      "cell_type": "code",
      "source": [
        ""
      ],
      "execution_count": 0,
      "outputs": []
    },
    {
      "metadata": {
        "colab_type": "text",
        "id": "NPPrmcsdOqSM"
      },
      "cell_type": "markdown",
      "source": [
        "12.) Python Program for Program to find area of a Square\n",
        "\n",
        "\n"
      ]
    },
    {
      "metadata": {
        "colab_type": "code",
        "id": "lyye1SQ4OqSN",
        "colab": {}
      },
      "cell_type": "code",
      "source": [
        ""
      ],
      "execution_count": 0,
      "outputs": []
    },
    {
      "metadata": {
        "colab_type": "text",
        "id": "i23U_sHmOqSQ"
      },
      "cell_type": "markdown",
      "source": [
        "13.) Python program to find weather the string entered by user is “hello world” or not."
      ]
    },
    {
      "metadata": {
        "colab_type": "code",
        "id": "Bg6XelZfOqSR",
        "colab": {}
      },
      "cell_type": "code",
      "source": [
        ""
      ],
      "execution_count": 0,
      "outputs": []
    },
    {
      "metadata": {
        "colab_type": "text",
        "id": "uz-V_7MHOqSV"
      },
      "cell_type": "markdown",
      "source": [
        "14.) Python program to print the multiplied table of the input number.\n"
      ]
    },
    {
      "metadata": {
        "colab_type": "code",
        "id": "cyXLmKq5OqSW",
        "colab": {}
      },
      "cell_type": "code",
      "source": [
        ""
      ],
      "execution_count": 0,
      "outputs": []
    },
    {
      "metadata": {
        "id": "pIsh7EbkQGJ8",
        "colab_type": "text"
      },
      "cell_type": "markdown",
      "source": [
        "Python program to ask user his age, name and hobby and then print the same as one line \n",
        "\n",
        "for eg:\n",
        "\n",
        "name = vedant\n",
        "age = 5\n",
        "hobby = palmreading\n",
        "\n",
        "output : \"name is vedant, he/she is 5 years old and likes plamreading.\""
      ]
    },
    {
      "metadata": {
        "id": "S8dlZji4QGm3",
        "colab_type": "code",
        "colab": {}
      },
      "cell_type": "code",
      "source": [
        ""
      ],
      "execution_count": 0,
      "outputs": []
    }
  ]
}